{
  "nbformat": 4,
  "nbformat_minor": 0,
  "metadata": {
    "colab": {
      "provenance": [],
      "authorship_tag": "ABX9TyOcBUJepfSAUpqkiybH0JwR",
      "include_colab_link": true
    },
    "kernelspec": {
      "name": "python3",
      "display_name": "Python 3"
    },
    "language_info": {
      "name": "python"
    }
  },
  "cells": [
    {
      "cell_type": "markdown",
      "metadata": {
        "id": "view-in-github",
        "colab_type": "text"
      },
      "source": [
        "<a href=\"https://colab.research.google.com/github/djadczak956/MA4635/blob/main/Jadczak_Damian_HW3_4.ipynb\" target=\"_parent\"><img src=\"https://colab.research.google.com/assets/colab-badge.svg\" alt=\"Open In Colab\"/></a>"
      ]
    },
    {
      "cell_type": "code",
      "execution_count": 1,
      "metadata": {
        "id": "rb85UDaLwr3r"
      },
      "outputs": [],
      "source": [
        "import numpy as np\n",
        "import matplotlib.pyplot as plt\n",
        "import pandas as pd\n",
        "import seaborn as sns"
      ]
    },
    {
      "cell_type": "markdown",
      "source": [
        "## Generate Simulated Dataset (a)\n"
      ],
      "metadata": {
        "id": "uPunEnlt0Cmf"
      }
    },
    {
      "cell_type": "code",
      "source": [
        "rng = np.random.default_rng(1)\n",
        "x = rng.normal(size=100)\n",
        "y = x - 2 * x**2 + rng.normal(size=100)"
      ],
      "metadata": {
        "id": "HAWVCI-Kw8ED"
      },
      "execution_count": 2,
      "outputs": []
    },
    {
      "cell_type": "markdown",
      "source": [
        "## Scatterplot of Simulated Data (b)"
      ],
      "metadata": {
        "id": "Y8jS686Y0JC3"
      }
    },
    {
      "cell_type": "code",
      "source": [
        "sns.scatterplot(x=x, y=y)\n",
        "plt.title(\"Scatterplot of Simulated Data\")\n",
        "plt.xlabel(\"X\")\n",
        "plt.ylabel(\"Y\")\n",
        "plt.show()"
      ],
      "metadata": {
        "colab": {
          "base_uri": "https://localhost:8080/",
          "height": 471
        },
        "id": "8cu_JYRi0Ie4",
        "outputId": "74451bce-1123-40b9-e30a-637c52ffd1fc"
      },
      "execution_count": 3,
      "outputs": [
        {
          "output_type": "display_data",
          "data": {
            "text/plain": [
              "<Figure size 640x480 with 1 Axes>"
            ],
            "image/png": "[encoded data removed]"
          },
          "metadata": {}
        }
      ]
    },
    {
      "cell_type": "markdown",
      "source": [
        "## LOOCV (c)"
      ],
      "metadata": {
        "id": "MEEZQpok2JCJ"
      }
    },
    {
      "cell_type": "code",
      "source": [
        "np.random.seed(42)"
      ],
      "metadata": {
        "id": "yUc9BwBW2PBM"
      },
      "execution_count": 4,
      "outputs": []
    },
    {
      "cell_type": "code",
      "source": [
        "import statsmodels.api as sm\n",
        "import statsmodels.formula.api as smf\n",
        "\n",
        "rng = np.random.default_rng(1)\n",
        "x = rng.normal(size=100)\n",
        "y = x - 2 * x**2 + rng.normal(size=100)\n",
        "\n",
        "df = pd.DataFrame({'y': y, 'x': x})\n",
        "df['x**2'] = df['x']**2\n",
        "df['x**3'] = df['x']**3\n",
        "df['x**4'] = df['x']**4\n",
        "models = [\n",
        "  smf.ols(formula='y ~ x', data=df).fit(),\n",
        "  smf.ols(formula='y ~ x + I(x**2)', data=df).fit(),\n",
        "  smf.ols(formula='y ~ x + I(x**2) + I(x**3)', data=df).fit(),\n",
        "  smf.ols(formula='y ~ x + I(x**2) + I(x**3) + I(x**4)', data=df).fit()\n",
        "]"
      ],
      "metadata": {
        "id": "9-IiCdmD4KnG"
      },
      "execution_count": 5,
      "outputs": []
    },
    {
      "cell_type": "code",
      "source": [
        "from sklearn.model_selection import LeaveOneOut\n",
        "loo = LeaveOneOut()\n",
        "loo_scores = []\n",
        "\n",
        "for model in models:\n",
        "    scores = []\n",
        "    for train_index, test_index in loo.split(df):\n",
        "        X_train, X_test = df.drop('y', axis=1).iloc[train_index], df.drop('y', axis=1).iloc[test_index]\n",
        "        y_train, y_test = df['y'].iloc[train_index], df['y'].iloc[test_index]\n",
        "\n",
        "        model_fit = smf.ols(formula=model.model.formula, data=pd.concat([X_train, y_train], axis=1)).fit()\n",
        "        y_pred = model_fit.predict(X_test)\n",
        "        scores.append(np.mean((y_test - y_pred)**2)) # MSE from (2.5)\n",
        "\n",
        "    loo_scores.append(scores)\n",
        "\n",
        "for i, scores in enumerate(loo_scores):\n",
        "    print(f\"Model {i+1}'s Mean LOOCV score (MSE): {np.mean(scores)}\")"
      ],
      "metadata": {
        "colab": {
          "base_uri": "https://localhost:8080/"
        },
        "id": "aIe695k_788v",
        "outputId": "1aeaea42-b134-439e-8855-4ff16247dff9"
      },
      "execution_count": 6,
      "outputs": [
        {
          "output_type": "stream",
          "name": "stdout",
          "text": [
            "Model 1's Mean LOOCV score (MSE): 6.633029839181983\n",
            "Model 2's Mean LOOCV score (MSE): 1.1229368563419686\n",
            "Model 3's Mean LOOCV score (MSE): 1.3017965489358878\n",
            "Model 4's Mean LOOCV score (MSE): 1.332394269417931\n"
          ]
        }
      ]
    },
    {
      "cell_type": "markdown",
      "source": [
        "## Different Seed (d)"
      ],
      "metadata": {
        "id": "H_NBUMR4-H-i"
      }
    },
    {
      "cell_type": "code",
      "source": [
        "np.random.seed(15)\n",
        "\n",
        "rng = np.random.default_rng(1)\n",
        "x = rng.normal(size=100)\n",
        "y = x - 2 * x**2 + rng.normal(size=100)\n",
        "\n",
        "# The most important part!!\n",
        "models = [\n",
        "  smf.ols(formula='y ~ x', data=df).fit(),\n",
        "  smf.ols(formula='y ~ x + I(x**2)', data=df).fit(),\n",
        "  smf.ols(formula='y ~ x + I(x**2) + I(x**3)', data=df).fit(),\n",
        "  smf.ols(formula='y ~ x + I(x**2) + I(x**3) + I(x**4)', data=df).fit()\n",
        "]\n",
        "\n",
        "loo = LeaveOneOut()\n",
        "loo_scores = []\n",
        "\n",
        "for model in models:\n",
        "    scores = []\n",
        "    for train_index, test_index in loo.split(df):\n",
        "        X_train, X_test = df.drop('y', axis=1).iloc[train_index], df.drop('y', axis=1).iloc[test_index]\n",
        "        y_train, y_test = df['y'].iloc[train_index], df['y'].iloc[test_index]\n",
        "\n",
        "        model_fit = smf.ols(formula=model.model.formula, data=pd.concat([X_train, y_train], axis=1)).fit()\n",
        "        y_pred = model_fit.predict(X_test)\n",
        "        scores.append(np.mean((y_test - y_pred)**2)) # MSE from (2.5)\n",
        "\n",
        "    loo_scores.append(scores)\n",
        "\n",
        "for i, scores in enumerate(loo_scores):\n",
        "    print(f\"Model {i+1}'s Mean LOOCV score (MSE): {np.mean(scores)}\")"
      ],
      "metadata": {
        "colab": {
          "base_uri": "https://localhost:8080/"
        },
        "id": "ikD3RY0G-J-B",
        "outputId": "f720e157-99a2-4760-a60d-c09cd5f58009"
      },
      "execution_count": 7,
      "outputs": [
        {
          "output_type": "stream",
          "name": "stdout",
          "text": [
            "Model 1's Mean LOOCV score (MSE): 6.633029839181983\n",
            "Model 2's Mean LOOCV score (MSE): 1.1229368563419686\n",
            "Model 3's Mean LOOCV score (MSE): 1.3017965489358878\n",
            "Model 4's Mean LOOCV score (MSE): 1.332394269417931\n"
          ]
        }
      ]
    }
  ]
}